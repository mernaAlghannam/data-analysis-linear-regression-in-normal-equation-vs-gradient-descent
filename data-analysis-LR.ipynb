{
  "nbformat": 4,
  "nbformat_minor": 0,
  "metadata": {
    "colab": {
      "name": "Untitled0.ipynb",
      "provenance": [],
      "collapsed_sections": []
    },
    "kernelspec": {
      "name": "python3",
      "display_name": "Python 3"
    },
    "language_info": {
      "name": "python"
    }
  },
  "cells": [
    {
      "cell_type": "markdown",
      "metadata": {
        "id": "_zp7yfOAWGAc"
      },
      "source": [
        "**Data Analysis**: Linear Regression using normal equation vs. using gradient descent"
      ]
    },
    {
      "cell_type": "code",
      "metadata": {
        "id": "oBVlaAkCUkY1"
      },
      "source": [
        "import pandas as pd\n",
        "import numpy as np\n",
        "np.set_printoptions(suppress=True)\n",
        "from numpy.linalg import svd, norm\n",
        "import matplotlib.pyplot as plt\n",
        "%matplotlib inline\n",
        "plt.style.use('ggplot')\n",
        "import seaborn as sns\n",
        "\n",
        "pd.set_option(\"display.max_rows\", None, \"display.max_columns\", None)\n",
        "pd.set_option('display.float_format', lambda x: '%.2f' % x)\n",
        "\n",
        "ames = pd.read_csv('https://raw.githubusercontent.com/catabia/cs391_spring21/main/AmesHousing.csv')\n",
        "ames = ames[['Lot Frontage','Lot Area', 'Overall Cond', 'Year Built', 'Year Remod/Add', 'Gr Liv Area', 'Full Bath', \n",
        "             'Half Bath', 'Bedroom AbvGr', 'TotRms AbvGrd', 'BsmtFin SF 1', 'Bsmt Unf SF', 'Bsmt Full Bath',\n",
        "             'Bsmt Half Bath', '1st Flr SF', '2nd Flr SF', 'Fireplaces', 'Garage Cars', 'Wood Deck SF',\n",
        "             'Open Porch SF','SalePrice']]\n",
        "ames.columns = ['lot_frontage','lot_area', 'overall_cond', 'year_built', 'year_remod', 'sqft', 'full_bath', \n",
        "                'half_bath', 'bedroom', 'total_rooms', 'bsmt_fin_sqft', 'bsmt_unfin_sqft', 'bsmt_full_bath',\n",
        "                'bsmt_half_bath', 'first_fl_sqft', 'second_fl_sqft', 'fireplaces', 'garage_cars', 'wood_deck_sqft',\n",
        "                'open_porch_sqft','sale_price']\n",
        "ames=ames.dropna()\n",
        "ames.describe()\n"
      ],
      "execution_count": null,
      "outputs": []
    },
    {
      "cell_type": "code",
      "metadata": {
        "id": "CRKcrJ7DUpgS"
      },
      "source": [
        "import time\n",
        "\n",
        "start = time.time()\n",
        "print('Hello word!')\n",
        "end = time.time()\n",
        "print('It took', end-start, ' seconds to print \"Hello world!\" once.  Pretty speedy, eh?')"
      ],
      "execution_count": null,
      "outputs": []
    },
    {
      "cell_type": "code",
      "metadata": {
        "id": "Pr0ogHLjUtLl"
      },
      "source": [
        "# Answer:\n",
        "from sklearn.preprocessing import MinMaxScaler\n",
        "import numpy as np\n",
        "#normalize\n",
        "scaler = MinMaxScaler(feature_range=(0,1))\n",
        "\n",
        "X = scaler.fit_transform(ames.drop(['sale_price'], axis=1))\n",
        "y = scaler.fit_transform(ames.sale_price.values.reshape(ames.shape[0], 1))\n",
        "# add a column of 1s so we can estimte the intercept\n",
        "#X = np.c_[np.ones(X.shape[0]), X]\n",
        "#print(X)"
      ],
      "execution_count": null,
      "outputs": []
    },
    {
      "cell_type": "code",
      "metadata": {
        "id": "lGwaGhOUVdqq"
      },
      "source": [
        "# Answer:\n",
        "from sklearn.linear_model import LinearRegression\n",
        "from sklearn.metrics import mean_squared_error\n",
        "\n",
        "start = time.time()\n",
        "model = LinearRegression()\n",
        "\n",
        "model.fit(X, y)\n",
        "\n",
        "model.coef_\n",
        "model.intercept_\n",
        "\n",
        "model.predict(X)\n",
        "MSE =np.square(np.subtract(y, model.predict(X))).mean()\n",
        "print(MSE)\n",
        "\n",
        "end = time.time()\n",
        "print('It took', end-start)"
      ],
      "execution_count": null,
      "outputs": []
    },
    {
      "cell_type": "code",
      "metadata": {
        "id": "AznzChQSVi1w"
      },
      "source": [
        "# Answer:\n",
        "from sklearn.linear_model import SGDRegressor\n",
        "\n",
        "start = time.time()\n",
        "# add a column of 1s so we can estimte the intercept\n",
        "#print(X)\n",
        "\n",
        "# Stochastic Gradient Descent for linear regression using SciKit Learn\n",
        "\n",
        "from sklearn.linear_model import SGDRegressor\n",
        "\n",
        "model2 = SGDRegressor(alpha = 0.0001, max_iter = 100000)\n",
        "y=y.reshape(y.shape[0],)\n",
        "model2.fit(X, y)\n",
        "\n",
        "\n",
        "mse = ((model2.predict(X) - y)**2).mean()\n",
        "print(mse)\n",
        "\n",
        "end = time.time()\n",
        "print('It took', end-start)"
      ],
      "execution_count": null,
      "outputs": []
    },
    {
      "cell_type": "code",
      "metadata": {
        "id": "ss7DZgRXVjm4"
      },
      "source": [
        "# Answer:\n",
        "from sklearn.preprocessing import PolynomialFeatures\n",
        "\n",
        "poly_feat_fit = PolynomialFeatures(degree=3)\n",
        "Xpoly = poly_feat_fit.fit_transform(X)\n",
        "\n",
        "\n",
        "print(\"the number of columns are after degree 3\", Xpoly.shape[1])\n",
        "print(\"the past numebr of columns before making it degree 3\", X.shape[1])"
      ],
      "execution_count": null,
      "outputs": []
    },
    {
      "cell_type": "code",
      "metadata": {
        "id": "mR6QhHWlVm4C"
      },
      "source": [
        "# Answer:\n",
        "start = time.time()\n",
        "pol_reg = LinearRegression()\n",
        "pol_reg.fit(Xpoly, y)\n",
        "pol_reg.predict(Xpoly)\n",
        "\n",
        "MSE =np.square(np.subtract(y, pol_reg.predict(Xpoly))).mean()\n",
        "print(MSE)\n",
        "\n",
        "end = time.time()\n",
        "print('the normal equation took', end-start)"
      ],
      "execution_count": null,
      "outputs": []
    },
    {
      "cell_type": "code",
      "metadata": {
        "id": "5NymecGXVpyE"
      },
      "source": [
        "# Stochastic Gradient Descent for linear regression using SciKit Learn\n",
        "from sklearn.linear_model import SGDRegressor\n",
        "start = time.time()\n",
        "model1 = SGDRegressor(alpha = 0.0001, max_iter = 100000)\n",
        "y=y.reshape(y.shape[0],)\n",
        "model1.fit(Xpoly, y)\n",
        "\n",
        "\n",
        "mse = ((model1.predict(Xpoly) - y)**2).mean()\n",
        "print(mse)\n",
        "\n",
        "end = time.time()\n",
        "print('the gradient descent one took', end-start)"
      ],
      "execution_count": null,
      "outputs": []
    }
  ]
}